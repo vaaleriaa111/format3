{
 "cells": [
  {
   "cell_type": "markdown",
   "id": "402943b1",
   "metadata": {},
   "source": [
    "<center><img src=\"https://i.imgur.com/zRrFdsf.png\" width=\"700\"></center>\n",
    "\n",
    "\n",
    "# Formatting Data (dates)\n",
    "\n",
    "It is very common to find dates (some combination of year, month, day of week and time) in data that is collected in real time (and other that organize event information.\n",
    "\n",
    "Let's see a data frame that comes with dates from an API."
   ]
  },
  {
   "cell_type": "code",
   "execution_count": 1,
   "id": "75f3c948",
   "metadata": {},
   "outputs": [
    {
     "name": "stderr",
     "output_type": "stream",
     "text": [
      "WARNING:root:Requests made without an app_token will be subject to strict throttling limits.\n"
     ]
    }
   ],
   "source": [
    "import pandas as pd\n",
    "from sodapy import Socrata\n",
    "\n",
    "client = Socrata(\"data.seattle.gov\", None)\n",
    "\n",
    "results = client.get(\"kzjm-xkqj\", limit=2000)\n",
    "\n",
    "# Convert to pandas DataFrame\n",
    "calls911 = pd.DataFrame.from_records(results)"
   ]
  },
  {
   "cell_type": "markdown",
   "id": "33d1b686",
   "metadata": {},
   "source": [
    "Let's check some information:"
   ]
  },
  {
   "cell_type": "code",
   "execution_count": 2,
   "id": "8b6e8130",
   "metadata": {},
   "outputs": [
    {
     "name": "stdout",
     "output_type": "stream",
     "text": [
      "<class 'pandas.core.frame.DataFrame'>\n",
      "RangeIndex: 2000 entries, 0 to 1999\n",
      "Data columns (total 12 columns):\n",
      " #   Column                       Non-Null Count  Dtype \n",
      "---  ------                       --------------  ----- \n",
      " 0   address                      2000 non-null   object\n",
      " 1   type                         2000 non-null   object\n",
      " 2   datetime                     2000 non-null   object\n",
      " 3   latitude                     1999 non-null   object\n",
      " 4   longitude                    1999 non-null   object\n",
      " 5   report_location              1999 non-null   object\n",
      " 6   incident_number              2000 non-null   object\n",
      " 7   :@computed_region_ru88_fbhk  1991 non-null   object\n",
      " 8   :@computed_region_kuhn_3gp2  1991 non-null   object\n",
      " 9   :@computed_region_q256_3sug  1999 non-null   object\n",
      " 10  :@computed_region_2day_rhn5  155 non-null    object\n",
      " 11  :@computed_region_cyqu_gs94  144 non-null    object\n",
      "dtypes: object(12)\n",
      "memory usage: 187.6+ KB\n"
     ]
    }
   ],
   "source": [
    "calls911.info()"
   ]
  },
  {
   "cell_type": "markdown",
   "id": "411ee94b",
   "metadata": {},
   "source": [
    "Let's get rid of some columns:"
   ]
  },
  {
   "cell_type": "code",
   "execution_count": 3,
   "id": "ff87b95f",
   "metadata": {},
   "outputs": [],
   "source": [
    "calls911=calls911.iloc[:,:7]"
   ]
  },
  {
   "cell_type": "markdown",
   "id": "ea1b71f9",
   "metadata": {},
   "source": [
    "Let's check the column _datetime_:"
   ]
  },
  {
   "cell_type": "code",
   "execution_count": 4,
   "id": "c61dade2",
   "metadata": {},
   "outputs": [
    {
     "data": {
      "text/plain": [
       "0    2023-05-02T10:05:00.000\n",
       "1    2023-05-02T10:01:00.000\n",
       "2    2023-05-02T10:00:00.000\n",
       "3    2023-05-02T09:59:00.000\n",
       "4    2023-05-02T09:56:00.000\n",
       "Name: datetime, dtype: object"
      ]
     },
     "execution_count": 4,
     "metadata": {},
     "output_type": "execute_result"
    }
   ],
   "source": [
    "calls911.datetime.head()"
   ]
  },
  {
   "cell_type": "code",
   "execution_count": 5,
   "id": "0685a26d",
   "metadata": {},
   "outputs": [
    {
     "data": {
      "text/plain": [
       "str"
      ]
     },
     "execution_count": 5,
     "metadata": {},
     "output_type": "execute_result"
    }
   ],
   "source": [
    "# then\n",
    "type(calls911.datetime[0])"
   ]
  },
  {
   "cell_type": "markdown",
   "id": "bf7e8e20",
   "metadata": {},
   "source": [
    "The date and time information is not useful at this time, that is, the information it offers is of limited use, as it is just a string. \n",
    "\n",
    "Let's make it useful:"
   ]
  },
  {
   "cell_type": "code",
   "execution_count": 6,
   "id": "3e232c75",
   "metadata": {
    "scrolled": true
   },
   "outputs": [
    {
     "name": "stdout",
     "output_type": "stream",
     "text": [
      "<class 'pandas.core.frame.DataFrame'>\n",
      "RangeIndex: 2000 entries, 0 to 1999\n",
      "Data columns (total 7 columns):\n",
      " #   Column           Non-Null Count  Dtype         \n",
      "---  ------           --------------  -----         \n",
      " 0   address          2000 non-null   object        \n",
      " 1   type             2000 non-null   object        \n",
      " 2   datetime         2000 non-null   datetime64[ns]\n",
      " 3   latitude         1999 non-null   object        \n",
      " 4   longitude        1999 non-null   object        \n",
      " 5   report_location  1999 non-null   object        \n",
      " 6   incident_number  2000 non-null   object        \n",
      "dtypes: datetime64[ns](1), object(6)\n",
      "memory usage: 109.5+ KB\n"
     ]
    }
   ],
   "source": [
    "calls911.datetime=pd.to_datetime(calls911.datetime,format='%Y-%m-%d')\n",
    "calls911.info()"
   ]
  },
  {
   "cell_type": "markdown",
   "id": "b90004bf",
   "metadata": {},
   "source": [
    "Once you have this data type, you can retrieve important information:"
   ]
  },
  {
   "cell_type": "code",
   "execution_count": 7,
   "id": "0d7637b8",
   "metadata": {},
   "outputs": [],
   "source": [
    "calls911['date']=calls911.datetime.dt.date\n",
    "calls911['year']=calls911.datetime.dt.year\n",
    "calls911['month']=calls911.datetime.dt.month\n",
    "calls911['month_name']=calls911.datetime.dt.month_name()\n",
    "calls911['day']=calls911.datetime.dt.day\n",
    "calls911['weekday']=calls911.datetime.dt.day_name()\n",
    "calls911['hour']=calls911.datetime.dt.hour\n",
    "calls911['minute']=calls911.datetime.dt.minute"
   ]
  },
  {
   "cell_type": "code",
   "execution_count": 8,
   "id": "6c1581d8",
   "metadata": {},
   "outputs": [
    {
     "data": {
      "text/html": [
       "<div>\n",
       "<style scoped>\n",
       "    .dataframe tbody tr th:only-of-type {\n",
       "        vertical-align: middle;\n",
       "    }\n",
       "\n",
       "    .dataframe tbody tr th {\n",
       "        vertical-align: top;\n",
       "    }\n",
       "\n",
       "    .dataframe thead th {\n",
       "        text-align: right;\n",
       "    }\n",
       "</style>\n",
       "<table border=\"1\" class=\"dataframe\">\n",
       "  <thead>\n",
       "    <tr style=\"text-align: right;\">\n",
       "      <th></th>\n",
       "      <th>address</th>\n",
       "      <th>type</th>\n",
       "      <th>datetime</th>\n",
       "      <th>latitude</th>\n",
       "      <th>longitude</th>\n",
       "      <th>report_location</th>\n",
       "      <th>incident_number</th>\n",
       "      <th>date</th>\n",
       "      <th>year</th>\n",
       "      <th>month</th>\n",
       "      <th>month_name</th>\n",
       "      <th>day</th>\n",
       "      <th>weekday</th>\n",
       "      <th>hour</th>\n",
       "      <th>minute</th>\n",
       "    </tr>\n",
       "  </thead>\n",
       "  <tbody>\n",
       "    <tr>\n",
       "      <th>0</th>\n",
       "      <td>4801 38th Ave Ne</td>\n",
       "      <td>Aid Response Yellow</td>\n",
       "      <td>2023-05-02 10:05:00</td>\n",
       "      <td>47.663495</td>\n",
       "      <td>-122.287123</td>\n",
       "      <td>{'type': 'Point', 'coordinates': [-122.287123,...</td>\n",
       "      <td>F230052682</td>\n",
       "      <td>2023-05-02</td>\n",
       "      <td>2023</td>\n",
       "      <td>5</td>\n",
       "      <td>May</td>\n",
       "      <td>2</td>\n",
       "      <td>Tuesday</td>\n",
       "      <td>10</td>\n",
       "      <td>5</td>\n",
       "    </tr>\n",
       "    <tr>\n",
       "      <th>1</th>\n",
       "      <td>1st Ave / Battery St</td>\n",
       "      <td>Aid Response</td>\n",
       "      <td>2023-05-02 10:01:00</td>\n",
       "      <td>47.614144</td>\n",
       "      <td>-122.347813</td>\n",
       "      <td>{'type': 'Point', 'coordinates': [-122.347813,...</td>\n",
       "      <td>F230052679</td>\n",
       "      <td>2023-05-02</td>\n",
       "      <td>2023</td>\n",
       "      <td>5</td>\n",
       "      <td>May</td>\n",
       "      <td>2</td>\n",
       "      <td>Tuesday</td>\n",
       "      <td>10</td>\n",
       "      <td>1</td>\n",
       "    </tr>\n",
       "    <tr>\n",
       "      <th>2</th>\n",
       "      <td>2737 Ne 135th St</td>\n",
       "      <td>Aid Response</td>\n",
       "      <td>2023-05-02 10:00:00</td>\n",
       "      <td>47.726525</td>\n",
       "      <td>-122.298041</td>\n",
       "      <td>{'type': 'Point', 'coordinates': [-122.298041,...</td>\n",
       "      <td>F230052678</td>\n",
       "      <td>2023-05-02</td>\n",
       "      <td>2023</td>\n",
       "      <td>5</td>\n",
       "      <td>May</td>\n",
       "      <td>2</td>\n",
       "      <td>Tuesday</td>\n",
       "      <td>10</td>\n",
       "      <td>0</td>\n",
       "    </tr>\n",
       "    <tr>\n",
       "      <th>3</th>\n",
       "      <td>100 Melrose Ave E</td>\n",
       "      <td>Auto Fire Alarm</td>\n",
       "      <td>2023-05-02 09:59:00</td>\n",
       "      <td>47.618497</td>\n",
       "      <td>-122.327854</td>\n",
       "      <td>{'type': 'Point', 'coordinates': [-122.327854,...</td>\n",
       "      <td>F230052677</td>\n",
       "      <td>2023-05-02</td>\n",
       "      <td>2023</td>\n",
       "      <td>5</td>\n",
       "      <td>May</td>\n",
       "      <td>2</td>\n",
       "      <td>Tuesday</td>\n",
       "      <td>9</td>\n",
       "      <td>59</td>\n",
       "    </tr>\n",
       "    <tr>\n",
       "      <th>4</th>\n",
       "      <td>805 4th Ave N</td>\n",
       "      <td>Aid Response</td>\n",
       "      <td>2023-05-02 09:56:00</td>\n",
       "      <td>47.626322</td>\n",
       "      <td>-122.348863</td>\n",
       "      <td>{'type': 'Point', 'coordinates': [-122.348863,...</td>\n",
       "      <td>F230052676</td>\n",
       "      <td>2023-05-02</td>\n",
       "      <td>2023</td>\n",
       "      <td>5</td>\n",
       "      <td>May</td>\n",
       "      <td>2</td>\n",
       "      <td>Tuesday</td>\n",
       "      <td>9</td>\n",
       "      <td>56</td>\n",
       "    </tr>\n",
       "  </tbody>\n",
       "</table>\n",
       "</div>"
      ],
      "text/plain": [
       "                address                 type            datetime   latitude  \\\n",
       "0      4801 38th Ave Ne  Aid Response Yellow 2023-05-02 10:05:00  47.663495   \n",
       "1  1st Ave / Battery St         Aid Response 2023-05-02 10:01:00  47.614144   \n",
       "2      2737 Ne 135th St         Aid Response 2023-05-02 10:00:00  47.726525   \n",
       "3     100 Melrose Ave E      Auto Fire Alarm 2023-05-02 09:59:00  47.618497   \n",
       "4         805 4th Ave N         Aid Response 2023-05-02 09:56:00  47.626322   \n",
       "\n",
       "     longitude                                    report_location  \\\n",
       "0  -122.287123  {'type': 'Point', 'coordinates': [-122.287123,...   \n",
       "1  -122.347813  {'type': 'Point', 'coordinates': [-122.347813,...   \n",
       "2  -122.298041  {'type': 'Point', 'coordinates': [-122.298041,...   \n",
       "3  -122.327854  {'type': 'Point', 'coordinates': [-122.327854,...   \n",
       "4  -122.348863  {'type': 'Point', 'coordinates': [-122.348863,...   \n",
       "\n",
       "  incident_number        date  year  month month_name  day  weekday  hour  \\\n",
       "0      F230052682  2023-05-02  2023      5        May    2  Tuesday    10   \n",
       "1      F230052679  2023-05-02  2023      5        May    2  Tuesday    10   \n",
       "2      F230052678  2023-05-02  2023      5        May    2  Tuesday    10   \n",
       "3      F230052677  2023-05-02  2023      5        May    2  Tuesday     9   \n",
       "4      F230052676  2023-05-02  2023      5        May    2  Tuesday     9   \n",
       "\n",
       "   minute  \n",
       "0       5  \n",
       "1       1  \n",
       "2       0  \n",
       "3      59  \n",
       "4      56  "
      ]
     },
     "execution_count": 8,
     "metadata": {},
     "output_type": "execute_result"
    }
   ],
   "source": [
    "calls911.head()"
   ]
  },
  {
   "cell_type": "markdown",
   "id": "5aee7d81",
   "metadata": {},
   "source": [
    "Let's create a new column with what we have. In this case, a boolean where you tell if it is night time (after 8 pm before 6 am):"
   ]
  },
  {
   "cell_type": "code",
   "execution_count": 9,
   "id": "335b1a0f",
   "metadata": {},
   "outputs": [],
   "source": [
    "calls911['nightTime']=((calls911['hour']<=6) | (calls911['hour']>=20))"
   ]
  },
  {
   "cell_type": "markdown",
   "id": "28280f34",
   "metadata": {},
   "source": [
    "Can we use several columns to build a _datetime_?"
   ]
  },
  {
   "cell_type": "code",
   "execution_count": 10,
   "id": "3afa4a2d",
   "metadata": {},
   "outputs": [
    {
     "data": {
      "text/plain": [
       "0      2023-05-02 10:05:00\n",
       "1      2023-05-02 10:01:00\n",
       "2      2023-05-02 10:00:00\n",
       "3      2023-05-02 09:59:00\n",
       "4      2023-05-02 09:56:00\n",
       "               ...        \n",
       "1995   2023-04-26 15:09:00\n",
       "1996   2023-04-26 15:07:00\n",
       "1997   2023-04-26 15:04:00\n",
       "1998   2023-04-26 14:59:00\n",
       "1999   2023-04-26 14:54:00\n",
       "Length: 2000, dtype: datetime64[ns]"
      ]
     },
     "execution_count": 10,
     "metadata": {},
     "output_type": "execute_result"
    }
   ],
   "source": [
    "pd.to_datetime(calls911[['month', 'day','year','hour','minute']])"
   ]
  },
  {
   "cell_type": "markdown",
   "id": "b35551dd",
   "metadata": {},
   "source": [
    "Notice that the columns about lat/long are non numeric, let's solve that:"
   ]
  },
  {
   "cell_type": "code",
   "execution_count": 11,
   "id": "21032db1",
   "metadata": {},
   "outputs": [],
   "source": [
    "calls911[['longitude','latitude']]=calls911[['longitude','latitude']].apply(lambda x:pd.to_numeric(x))"
   ]
  },
  {
   "cell_type": "code",
   "execution_count": 12,
   "id": "a8add445",
   "metadata": {},
   "outputs": [
    {
     "name": "stdout",
     "output_type": "stream",
     "text": [
      "<class 'pandas.core.frame.DataFrame'>\n",
      "RangeIndex: 2000 entries, 0 to 1999\n",
      "Data columns (total 16 columns):\n",
      " #   Column           Non-Null Count  Dtype         \n",
      "---  ------           --------------  -----         \n",
      " 0   address          2000 non-null   object        \n",
      " 1   type             2000 non-null   object        \n",
      " 2   datetime         2000 non-null   datetime64[ns]\n",
      " 3   latitude         1999 non-null   float64       \n",
      " 4   longitude        1999 non-null   float64       \n",
      " 5   report_location  1999 non-null   object        \n",
      " 6   incident_number  2000 non-null   object        \n",
      " 7   date             2000 non-null   object        \n",
      " 8   year             2000 non-null   int64         \n",
      " 9   month            2000 non-null   int64         \n",
      " 10  month_name       2000 non-null   object        \n",
      " 11  day              2000 non-null   int64         \n",
      " 12  weekday          2000 non-null   object        \n",
      " 13  hour             2000 non-null   int64         \n",
      " 14  minute           2000 non-null   int64         \n",
      " 15  nightTime        2000 non-null   bool          \n",
      "dtypes: bool(1), datetime64[ns](1), float64(2), int64(5), object(7)\n",
      "memory usage: 236.5+ KB\n"
     ]
    }
   ],
   "source": [
    "#re check\n",
    "calls911.info()"
   ]
  },
  {
   "cell_type": "markdown",
   "id": "b60afa87",
   "metadata": {},
   "source": [
    "Let's save what we have:"
   ]
  },
  {
   "cell_type": "code",
   "execution_count": 13,
   "id": "954e790c",
   "metadata": {},
   "outputs": [],
   "source": [
    "import os\n",
    "\n",
    "where=os.path.join('data','calls911.pkl')\n",
    "calls911.to_pickle(where)"
   ]
  },
  {
   "cell_type": "code",
   "execution_count": null,
   "id": "b3c281bc",
   "metadata": {},
   "outputs": [],
   "source": []
  }
 ],
 "metadata": {
  "kernelspec": {
   "display_name": "Python 3 (ipykernel)",
   "language": "python",
   "name": "python3"
  },
  "language_info": {
   "codemirror_mode": {
    "name": "ipython",
    "version": 3
   },
   "file_extension": ".py",
   "mimetype": "text/x-python",
   "name": "python",
   "nbconvert_exporter": "python",
   "pygments_lexer": "ipython3",
   "version": "3.9.13"
  }
 },
 "nbformat": 4,
 "nbformat_minor": 5
}
